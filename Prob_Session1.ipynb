{
 "cells": [
  {
   "cell_type": "code",
   "execution_count": 1,
   "metadata": {
    "collapsed": true
   },
   "outputs": [],
   "source": [
    "format compact"
   ]
  },
  {
   "cell_type": "markdown",
   "metadata": {
    "collapsed": true
   },
   "source": [
    "## Introduction to Matlab"
   ]
  },
  {
   "cell_type": "markdown",
   "metadata": {},
   "source": [
    "### Basic Operations"
   ]
  },
  {
   "cell_type": "code",
   "execution_count": 2,
   "metadata": {
    "collapsed": false
   },
   "outputs": [
    {
     "name": "stdout",
     "output_type": "stream",
     "text": [
      "a =\n",
      "    32\n",
      "x =\n",
      "   5.656854249492381\n"
     ]
    }
   ],
   "source": [
    "a = (cos(0) - sin(pi) + log(exp(1)))^2 * sqrt(64)\n",
    "format long\n",
    "x = sqrt(a)"
   ]
  },
  {
   "cell_type": "markdown",
   "metadata": {},
   "source": [
    "### Vector and Matrix"
   ]
  },
  {
   "cell_type": "code",
   "execution_count": 3,
   "metadata": {
    "collapsed": false
   },
   "outputs": [
    {
     "name": "stdout",
     "output_type": "stream",
     "text": [
      "x =\n",
      "     1     2\n"
     ]
    }
   ],
   "source": [
    "% row vector\n",
    "x=[1 2]"
   ]
  },
  {
   "cell_type": "code",
   "execution_count": 4,
   "metadata": {
    "collapsed": false
   },
   "outputs": [
    {
     "name": "stdout",
     "output_type": "stream",
     "text": [
      "y =\n",
      "     3\n",
      "     4\n",
      "ans =\n",
      "     3     4\n"
     ]
    }
   ],
   "source": [
    "% column vector \n",
    "y=[3;4]\n",
    "\n",
    "% transpose\n",
    "y'"
   ]
  },
  {
   "cell_type": "code",
   "execution_count": 5,
   "metadata": {
    "collapsed": false
   },
   "outputs": [
    {
     "name": "stdout",
     "output_type": "stream",
     "text": [
      "A =\n",
      "     1     2\n",
      "     3     4\n",
      "ans =\n",
      "     7    10\n",
      "    15    22\n",
      "ans =\n",
      "     2     4\n",
      "     6     8\n"
     ]
    }
   ],
   "source": [
    "% matrix\n",
    "A=[1 2; 3 4]\n",
    "\n",
    "% matrix mul\n",
    "A*A\n",
    "\n",
    "% element-wise mul\n",
    "A.*2"
   ]
  },
  {
   "cell_type": "code",
   "execution_count": 15,
   "metadata": {
    "collapsed": false
   },
   "outputs": [
    {
     "name": "stdout",
     "output_type": "stream",
     "text": [
      "A =\n",
      "     1     2     3\n",
      "     4     5     6\n",
      "     7     8    98\n",
      "ans =\n",
      "     4\n",
      "ans =\n",
      "     2\n",
      "ans =\n",
      "     1     2     3\n",
      "ans =\n",
      "     3\n",
      "     6\n",
      "    98\n",
      "s =\n",
      "     3     3\n"
     ]
    }
   ],
   "source": [
    "A=[1 2 3; 4 5 6; 7 8 98]\n",
    "\n",
    "% accessing second element of matrix\n",
    "A(2)\n",
    "\n",
    "% accessing item (1,2)\n",
    "A(1,2)\n",
    "\n",
    "% getting first row\n",
    "A(1,1:3)\n",
    "\n",
    "% getting last col\n",
    "A(1:3,3)\n",
    "\n",
    "% getting size of A\n",
    "s = size(A)"
   ]
  },
  {
   "cell_type": "code",
   "execution_count": 17,
   "metadata": {
    "collapsed": false,
    "scrolled": true
   },
   "outputs": [
    {
     "name": "stdout",
     "output_type": "stream",
     "text": [
      "Z =\n",
      "     0     0     0\n",
      "     0     0     0\n",
      "     0     0     0\n",
      "E =\n",
      "     1     0     0     0\n",
      "     0     1     0     0\n",
      "     0     0     1     0\n",
      "     0     0     0     1\n",
      "R =\n",
      "    0.4218    0.6557    0.6787    0.6555\n",
      "    0.9157    0.0357    0.7577    0.1712\n",
      "    0.7922    0.8491    0.7431    0.7060\n",
      "    0.9595    0.9340    0.3922    0.0318\n"
     ]
    }
   ],
   "source": [
    "% making zero matrix\n",
    "Z = zeros(3)\n",
    "\n",
    "% making eye matrix\n",
    "E = eye(4)\n",
    "\n",
    "format short\n",
    "% making random matrix\n",
    "R = rand(4)"
   ]
  },
  {
   "cell_type": "markdown",
   "metadata": {},
   "source": [
    "### More Vectors"
   ]
  },
  {
   "cell_type": "code",
   "execution_count": 18,
   "metadata": {
    "collapsed": false,
    "scrolled": true
   },
   "outputs": [
    {
     "name": "stdout",
     "output_type": "stream",
     "text": [
      "x =\n",
      "     1     2     3     4     5\n",
      "x =\n",
      "  Columns 1 through 7\n",
      "    1.0000    1.5000    2.0000    2.5000    3.0000    3.5000    4.0000\n",
      "  Columns 8 through 9\n",
      "    4.5000    5.0000\n",
      "x =\n",
      "  Columns 1 through 7\n",
      "         0    0.5000    1.0000    1.5000    2.0000    2.5000    3.0000\n",
      "  Columns 8 through 11\n",
      "    3.5000    4.0000    4.5000    5.0000\n"
     ]
    }
   ],
   "source": [
    "x = 1:5\n",
    "x = 1:0.5:5\n",
    "x = linspace(0,5,11)"
   ]
  },
  {
   "cell_type": "markdown",
   "metadata": {},
   "source": [
    "### Conditions"
   ]
  },
  {
   "cell_type": "code",
   "execution_count": 14,
   "metadata": {
    "collapsed": false,
    "scrolled": true
   },
   "outputs": [
    {
     "name": "stdout",
     "output_type": "stream",
     "text": [
      "x~=y and x~=z\n",
      "x~=y and x~=z\n",
      "x is true\n",
      "z is true\n"
     ]
    }
   ],
   "source": [
    "x = 1;\n",
    "y = 0;\n",
    "z = 2;\n",
    "if x == y || x == z\n",
    "    disp('x=y or x=z');\n",
    "else\n",
    "    disp('x~=y and x~=z');\n",
    "end\n",
    "if x ~= y && x ~= z\n",
    "    disp('x~=y and x~=z');\n",
    "else\n",
    "    disp('x==y or x==z');\n",
    "end\n",
    "if x\n",
    "    disp('x is true');\n",
    "end\n",
    "if y\n",
    "    disp('y is true');\n",
    "elseif z\n",
    "    disp('z is true');\n",
    "end"
   ]
  },
  {
   "cell_type": "code",
   "execution_count": 9,
   "metadata": {
    "collapsed": false
   },
   "outputs": [
    {
     "name": "stdout",
     "output_type": "stream",
     "text": [
      "x =\n",
      "     1     3     5     7     9\n",
      "index =\n",
      "     4     5\n",
      "ans =\n",
      "     7     9\n"
     ]
    }
   ],
   "source": [
    "x = 1:2:10\n",
    "index = find(x>5)\n",
    "x(index)"
   ]
  },
  {
   "cell_type": "markdown",
   "metadata": {},
   "source": [
    "### Loops"
   ]
  },
  {
   "cell_type": "code",
   "execution_count": 6,
   "metadata": {
    "collapsed": false,
    "scrolled": false
   },
   "outputs": [
    {
     "name": "stdout",
     "output_type": "stream",
     "text": [
      "    0.1656\n",
      "    0.1667\n"
     ]
    }
   ],
   "source": [
    "x = 1:6;\n",
    "n = 0;\n",
    "N = 50000;\n",
    "i = 0;\n",
    "plotY = 0;\n",
    "while i <= N\n",
    "    rand_index = floor(rand() * 6);\n",
    "    if rand_index == 4\n",
    "        n = n + 1;\n",
    "    end\n",
    "    plotY = [plotY, n/N];\n",
    "    i = i + 1;\n",
    "end\n",
    "disp(n/N);\n",
    "disp(1/6);"
   ]
  },
  {
   "cell_type": "markdown",
   "metadata": {},
   "source": [
    "### Plot"
   ]
  },
  {
   "cell_type": "markdown",
   "metadata": {},
   "source": [
    "- Line style <br/>\n",
    "'-', '--', ':', '-.' <br/>\n",
    "- Marker <br/>\n",
    "'o', '+', '*','.', 'x', 's', 'd', '^', 'v','>', '<', 'p', 'h' <br/>\n",
    "- Color <br/>\n",
    "'y', 'm', 'c', 'r','g', 'b', 'w', 'k' <br/>\n",
    "- Examples <br/>\n",
    "'-o','--',':','g','b--o','c*','--gs' <br/>"
   ]
  },
  {
   "cell_type": "code",
   "execution_count": 17,
   "metadata": {
    "collapsed": false
   },
   "outputs": [
    {
     "data": {
      "image/png": "[encoded data removed]",
      "text/plain": [
       "<IPython.core.display.Image object>"
      ]
     },
     "metadata": {},
     "output_type": "display_data"
    }
   ],
   "source": [
    "plot(plotY,'-b')\n",
    "hold on\n",
    "plot(0:N,(1/6)*ones(length(0:N),1),'--r')\n",
    "hold off\n",
    "xlabel('run')\n",
    "ylabel('prob')\n",
    "legend('Observed','Theoretical','Location','Southeast')"
   ]
  },
  {
   "cell_type": "markdown",
   "metadata": {},
   "source": [
    "### Functions"
   ]
  },
  {
   "cell_type": "code",
   "execution_count": 18,
   "metadata": {
    "collapsed": false
   },
   "outputs": [
    {
     "data": {
      "image/png": "[encoded data removed]",
      "text/plain": [
       "<IPython.core.display.Image object>"
      ]
     },
     "metadata": {},
     "output_type": "display_data"
    }
   ],
   "source": [
    "f = @(x, a, b, c) a*x.^2 + b*x + c;\n",
    "x = linspace(-5, 5, 100);\n",
    "y1=f(x,1,1,-1); \n",
    "y2=f(x,1,-2,1); \n",
    "y3=f(x,1,1,1);\n",
    "subplot(2,2,1)\n",
    "plot(x, y1, 'r')\n",
    "subplot(2,2,2)\n",
    "plot(x, y2, 'g')\n",
    "subplot(2,2,3)\n",
    "plot(x, y3, 'b')"
   ]
  },
  {
   "cell_type": "markdown",
   "metadata": {},
   "source": [
    "edit"
   ]
  },
  {
   "cell_type": "code",
   "execution_count": 2,
   "metadata": {
    "collapsed": false
   },
   "outputs": [
    {
     "name": "stdout",
     "output_type": "stream",
     "text": [
      "Created file '/Users/soheilchangizi/func.m'.\n"
     ]
    }
   ],
   "source": [
    "%%file func.m\n",
    "function y = func(x)\n",
    "    y=x.^2 - 1;\n",
    "end"
   ]
  },
  {
   "cell_type": "code",
   "execution_count": 4,
   "metadata": {
    "collapsed": false,
    "scrolled": true
   },
   "outputs": [
    {
     "name": "stdout",
     "output_type": "stream",
     "text": [
      "ans =\n",
      "     8\n",
      "ans =\n",
      "     0     3     8\n"
     ]
    }
   ],
   "source": [
    "func(3)\n",
    "func([1 2 3])"
   ]
  },
  {
   "cell_type": "code",
   "execution_count": 6,
   "metadata": {
    "collapsed": false
   },
   "outputs": [
    {
     "name": "stdout",
     "output_type": "stream",
     "text": [
      "Created file '/Users/soheilchangizi/func1.m'.\n"
     ]
    }
   ],
   "source": [
    "%%file func1.m\n",
    "function [p, q]=func1(x,y)\n",
    "    p=x.^2+y.^2;\n",
    "    q=x+y;\n",
    "end"
   ]
  },
  {
   "cell_type": "code",
   "execution_count": 8,
   "metadata": {
    "collapsed": false
   },
   "outputs": [
    {
     "name": "stdout",
     "output_type": "stream",
     "text": [
      "p3 =\n",
      "     5    13\n",
      "    25    41\n",
      "q3 =\n",
      "     3     5\n",
      "     7     9\n"
     ]
    }
   ],
   "source": [
    "A = [1, 2; 3, 4]; B = [2, 3; 4, 5];\n",
    "[p3, q3] = func1(A,B)"
   ]
  },
  {
   "cell_type": "markdown",
   "metadata": {},
   "source": [
    "## How to make pseudo–randomized numbers"
   ]
  },
  {
   "cell_type": "code",
   "execution_count": 21,
   "metadata": {
    "collapsed": false
   },
   "outputs": [
    {
     "data": {
      "image/png": "[encoded data removed]",
      "text/plain": [
       "<IPython.core.display.Image object>"
      ]
     },
     "metadata": {},
     "output_type": "display_data"
    }
   ],
   "source": [
    "a = 22695477;\n",
    "c = 1;\n",
    "m = 2^32;\n",
    "N = 2000;\n",
    "\n",
    "X = zeros(N,1);\n",
    "X(1) = 1000;\n",
    "for j=2:N\n",
    "    X(j)=mod(a*X(j-1)+c,m);\n",
    "end\n",
    "\n",
    "R = X/m;\n",
    "plot(R);"
   ]
  },
  {
   "cell_type": "markdown",
   "metadata": {},
   "source": [
    "https://en.wikipedia.org/wiki/Linear_congruential_generator "
   ]
  },
  {
   "cell_type": "markdown",
   "metadata": {},
   "source": [
    "# Simulation 1.1"
   ]
  },
  {
   "cell_type": "markdown",
   "metadata": {},
   "source": [
    "\t\tTheoretical \t Observed\n",
    "p(A1)\t\t <br/>\n",
    "p(A1 or A2)\t <br/>\n",
    "p(A1 and A2 and A3)\t <br/>"
   ]
  },
  {
   "cell_type": "code",
   "execution_count": 34,
   "metadata": {
    "collapsed": false
   },
   "outputs": [
    {
     "data": {
      "image/png": "[encoded data removed]",
      "text/plain": [
       "<IPython.core.display.Image object>"
      ]
     },
     "metadata": {},
     "output_type": "display_data"
    }
   ],
   "source": [
    "rectangle('Position', [0,0,1,1],'Linewidth', 1, 'LineStyle', '--');\n",
    "rectangle('Position', [0,0.5,0.7,0.5],'Linewidth', 1, 'EdgeColor', 'r', 'LineStyle', '-');\n",
    "rectangle('Position', [0.5,0.4,0.5,0.4],'Linewidth', 1, 'EdgeColor', 'y', 'LineStyle', '-');\n",
    "rectangle('Position', [0.3,0,0.6,0.6],'Linewidth', 1, 'EdgeColor', 'b', 'LineStyle', '-');"
   ]
  },
  {
   "cell_type": "markdown",
   "metadata": {
    "collapsed": true
   },
   "source": [
    "# Simulation 1.2"
   ]
  },
  {
   "cell_type": "markdown",
   "metadata": {},
   "source": [
    "Papoulis Exp 1.3"
   ]
  },
  {
   "cell_type": "markdown",
   "metadata": {},
   "source": [
    "# Simulation 1.3"
   ]
  },
  {
   "cell_type": "markdown",
   "metadata": {},
   "source": [
    "Papoulis Exp 1.5"
   ]
  }
 ],
 "metadata": {
  "kernelspec": {
   "display_name": "Matlab",
   "language": "matlab",
   "name": "matlab"
  },
  "language_info": {
   "codemirror_mode": "octave",
   "file_extension": ".m",
   "help_links": [
    {
     "text": "MetaKernel Magics",
     "url": "https://github.com/calysto/metakernel/blob/master/metakernel/magics/README.md"
    }
   ],
   "mimetype": "text/x-matlab",
   "name": "matlab",
   "version": "0.13.1"
  }
 },
 "nbformat": 4,
 "nbformat_minor": 2
}
